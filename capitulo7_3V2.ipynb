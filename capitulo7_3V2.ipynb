{
 "cells": [
  {
   "cell_type": "markdown",
   "metadata": {},
   "source": [
    "# 7 - Manejo de Datos: Union, Combinación y Remodelación\n",
    "======================================================\n",
    "\n",
    "#### IPN\n",
    "\n",
    "#### 20/nov/2020\n",
    "\n",
    "-   [Indexación jerárquica](#indexación-jerárquica)\n",
    "    -   [Reordenamiento y clasificación de\n",
    "        niveles](#reordenamiento-y-clasificación-de-niveles)\n",
    "    -   [Resumen de estadísticas por\n",
    "        nivel](#resumen-de-estadísticas-por-nivel)\n",
    "    -   [Indexación con columnas de un\n",
    "        DataFrame](#indexación-con-columnas-de-un-dataframe)\n",
    "-   [Combinación y unión de conjuntos de\n",
    "    datos](#combinación-y-unión-de-conjuntos-de-datos)\n",
    "    -   [Unión de DataFrames\n",
    "        Tipo-Database](#unión-de-dataframes-tipo-database)\n",
    "    -   [Unión con Índice](#unión-con-índice)\n",
    "    -   [Concatenación a lo Largo de un\n",
    "        Eje](#concatenación-a-lo-largo-de-un-eje)\n",
    "    -   [Combinación de Datos con\n",
    "        Superposición](#combinación-de-datos-con-superposición)\n",
    "-   [Reformateo](#reformateo)\n",
    "    -   [Remodelación con Indexación\n",
    "        Jerárquica](#remodelación-con-indexación-jerárquica)\n",
    "    -   [Pivotar Formato “Largo” a\n",
    "        “Ancho”](#pivotar-formato-largo-a-ancho)\n",
    "    -   [Pivotar Formato “Ancho” a\n",
    "        “Largo”](#pivotar-formato-ancho-a-largo)\n",
    "-   [Bibliografía](#bibliografía)\n",
    "\n",
    " \n",
    "\n",
    " \n",
    "\n",
    " \n",
    "\n",
    "NOTA: *Los archivos examples y datasets se pueden obtener del sitio\n",
    "<a href=\"https://github.com/wesm/pydata-book\" class=\"uri\">https://github.com/wesm/pydata-book</a>*\n",
    "\n",
    " \n",
    "\n",
    "En muchas aplicaciones, los datos pueden extenderse a través de varios\n",
    "archivos o bases de datos o pueden organizarse de una forma que no sea\n",
    "fácil de analizar. Este capítulo se centra en las herramientas para\n",
    "ayudar a combinar, unir y reorganizar datos. Iniciaremos con el concepto\n",
    "de indexación jerárquica en pandas, que se usa ampliamente en algunas de\n",
    "estas operaciones. Luego profundizaremos en las manipulaciones de datos\n",
    "particulares.\n",
    "\n",
    " \n",
    "\n",
    " \n",
    "\n",
    " "
   ]
  },
  {
   "cell_type": "markdown",
   "metadata": {},
   "source": [
    "Indexación jerárquica\n",
    "---------------------\n",
    "\n",
    " \n",
    "\n",
    "La *indexación jerárquica* es una característica importante de pandas\n",
    "que permite tener múltiples (dos o más) niveles de índice en un eje. De\n",
    "manera algo abstracta, proporciona una forma de trabajar con datos de\n",
    "dimensiones superiores en una forma de dimensiones inferiores.\n",
    "\n",
    "Comencemos con un ejemplo simple; creamos una Serie con una lista de\n",
    "listas (o arreglos) como índice:\n",
    "\n",
    " \n",
    "\n",
    "  \n",
    "    "
   ]
  },
  {
   "cell_type": "code",
   "execution_count": null,
   "metadata": {},
   "outputs": [],
   "source": [
    "import pandas as pd\n",
    "import numpy as np"
   ]
  },
  {
   "cell_type": "code",
   "execution_count": null,
   "metadata": {},
   "outputs": [],
   "source": [
    "data = pd.Series(np.random.randn(9),\n",
    "                     index=[['a', 'a', 'a', 'b', 'b', 'c', 'c', 'd', 'd'],\n",
    "                            [1, 2, 3, 1, 3, 1, 2, 2, 3]])"
   ]
  },
  {
   "cell_type": "code",
   "execution_count": null,
   "metadata": {},
   "outputs": [],
   "source": [
    " data"
   ]
  },
  {
   "cell_type": "markdown",
   "metadata": {},
   "source": [
    "Con los datos indexados jerárquicamente, las cosas son más complicadas,\n",
    "ya que unir con índice es implícitamente una unión de claves-múltiples:\n"
   ]
  },
  {
   "cell_type": "code",
   "execution_count": null,
   "metadata": {},
   "outputs": [],
   "source": [
    "lefth = pd.DataFrame({'key1': ['Ohio', 'Ohio', 'Ohio', 'Nevada', 'Nevada'],\n",
    "    ...:                       'key2': [2000, 2001, 2002, 2001, 2002],\n",
    "    ...:                       'data': np.arange(5.)})"
   ]
  },
  {
   "cell_type": "markdown",
   "metadata": {},
   "source": [
    "Estamos viendo una vista de una Serie con un `MultiIndex` como índice.\n",
    "Los “espacios” en la visualización del índice significan “usar la\n",
    "etiqueta que está directamente arriba”:\n",
    " "
   ]
  },
  {
   "cell_type": "code",
   "execution_count": null,
   "metadata": {},
   "outputs": [],
   "source": [
    "data.index"
   ]
  },
  {
   "cell_type": "markdown",
   "metadata": {},
   "source": [
    "Con un objeto indexado jerárquicamente, es posible la denominada\n",
    "indexación parcial, que permite seleccionar de manera concisa\n",
    "subconjuntos de datos:\n",
    "  "
   ]
  },
  {
   "cell_type": "code",
   "execution_count": null,
   "metadata": {},
   "outputs": [],
   "source": [
    "data['b']"
   ]
  },
  {
   "cell_type": "code",
   "execution_count": null,
   "metadata": {},
   "outputs": [],
   "source": [
    "data['b':'c']"
   ]
  },
  {
   "cell_type": "code",
   "execution_count": null,
   "metadata": {},
   "outputs": [],
   "source": [
    "data.loc[['b', 'd']]"
   ]
  },
  {
   "cell_type": "markdown",
   "metadata": {},
   "source": [
    "La selección es incluso posible desde un nivel “interno”:"
   ]
  },
  {
   "cell_type": "code",
   "execution_count": null,
   "metadata": {},
   "outputs": [],
   "source": [
    "data.loc[:, 2]"
   ]
  },
  {
   "cell_type": "markdown",
   "metadata": {},
   "source": [
    "La indexación jerárquica juega un papel importante en la remodelación de\n",
    "datos y operaciones basadas en grupos, como la formación de una tabla\n",
    "dinámica. Por ejemplo, podría reorganizar los datos en un DataFrame\n",
    "utilizando su método `unstack`:"
   ]
  },
  {
   "cell_type": "code",
   "execution_count": null,
   "metadata": {},
   "outputs": [],
   "source": [
    "data.unstack()"
   ]
  },
  {
   "cell_type": "markdown",
   "metadata": {},
   "source": [
    "La operación inversa de `unstack` es `stack`:"
   ]
  },
  {
   "cell_type": "code",
   "execution_count": null,
   "metadata": {},
   "outputs": [],
   "source": [
    "data.unstack().stack()"
   ]
  },
  {
   "cell_type": "markdown",
   "metadata": {},
   "source": [
    "Con un DataFrame, cualquier eje puede tener un índice jerárquico:"
   ]
  },
  {
   "cell_type": "code",
   "execution_count": null,
   "metadata": {},
   "outputs": [],
   "source": [
    "frame = pd.DataFrame(np.arange(12).reshape((4, 3)),\n",
    "                           index=[['a', 'a', 'b', 'b'], [1, 2, 1, 2]],\n",
    "                           columns=[['Ohio', 'Ohio', 'Colorado'],\n",
    "                                    ['Green', 'Red', 'Green']])\n"
   ]
  },
  {
   "cell_type": "code",
   "execution_count": null,
   "metadata": {},
   "outputs": [],
   "source": [
    "frame"
   ]
  },
  {
   "cell_type": "markdown",
   "metadata": {},
   "source": [
    "Los niveles jerárquicos pueden tener nombres (como cadenas o cualquier\n",
    "objeto de Python). Si es así, estos aparecerán en la salida de la\n",
    "consola:"
   ]
  },
  {
   "cell_type": "code",
   "execution_count": null,
   "metadata": {},
   "outputs": [],
   "source": [
    "frame.index.names = ['key1', 'key2']"
   ]
  },
  {
   "cell_type": "code",
   "execution_count": null,
   "metadata": {},
   "outputs": [],
   "source": [
    "frame.columns.names = ['state', 'color']"
   ]
  },
  {
   "cell_type": "code",
   "execution_count": null,
   "metadata": {},
   "outputs": [],
   "source": [
    "frame"
   ]
  },
  {
   "cell_type": "markdown",
   "metadata": {},
   "source": [
    "De manera similar, con la indexación parcial de columnas podemos\n",
    "seleccionar grupos de columnas:"
   ]
  },
  {
   "cell_type": "code",
   "execution_count": null,
   "metadata": {},
   "outputs": [],
   "source": [
    "frame['Ohio']"
   ]
  },
  {
   "cell_type": "markdown",
   "metadata": {},
   "source": [
    "Se puede crear un `MultiIndex` por sí mismo y luego reutilizarlo; las\n",
    "columnas en el DataFrame anterior con nombres de nivel podrían crearse\n",
    "así:"
   ]
  },
  {
   "cell_type": "code",
   "execution_count": null,
   "metadata": {},
   "outputs": [],
   "source": [
    "pd.MultiIndex.from_arrays([['Ohio', 'Ohio', 'Colorado'], ['Green', 'Red', 'Green']],\n",
    "    ...:                           names=['state', 'color'])"
   ]
  },
  {
   "cell_type": "markdown",
   "metadata": {},
   "source": [
    "### Reordenamiento y clasificación de niveles\n",
    "\n",
    " \n",
    "\n",
    "En ocasiones, deberá reorganizar el orden de los niveles en un eje u\n",
    "ordenar los datos por los valores en un nivel específico. `swaplevel`\n",
    "toma dos nombres o números de nivel y retorna un nuevo objeto con los\n",
    "niveles intercambiados  —–pero los datos no son alterados:\n",
    "\n",
    " "
   ]
  },
  {
   "cell_type": "code",
   "execution_count": null,
   "metadata": {},
   "outputs": [],
   "source": [
    "frame.swaplevel('key1', 'key2')"
   ]
  },
  {
   "cell_type": "markdown",
   "metadata": {},
   "source": [
    "Por otro lado, `sort_index` ordena los datos utilizando solo los valores\n",
    "en un solo nivel. Al intercambiar niveles, no es raro usar también\n",
    "`sort_index` para que el resultado se clasifique lexicográficamente por\n",
    "el nivel indicado:"
   ]
  },
  {
   "cell_type": "code",
   "execution_count": null,
   "metadata": {},
   "outputs": [],
   "source": [
    "frame.sort_index(level=1)"
   ]
  },
  {
   "cell_type": "code",
   "execution_count": null,
   "metadata": {},
   "outputs": [],
   "source": [
    "frame.swaplevel(0, 1).sort_index(level=0)"
   ]
  },
  {
   "cell_type": "markdown",
   "metadata": {},
   "source": [
    "### Resumen de estadísticas por nivel\n",
    "\n",
    " \n",
    "\n",
    "Muchas estadísticas descriptivas y de resumen en DataFrame y Series\n",
    "tienen una opción `level` en el que puede especificar el nivel que desea\n",
    "agregar en un eje en particular. Consideremos el DataFrame anterior;\n",
    "podemos agregar por nivel en las filas o columnas de la siguiente\n",
    "manera:"
   ]
  },
  {
   "cell_type": "code",
   "execution_count": null,
   "metadata": {},
   "outputs": [],
   "source": [
    "frame.sum(level='key2')"
   ]
  },
  {
   "cell_type": "code",
   "execution_count": null,
   "metadata": {},
   "outputs": [],
   "source": [
    "frame.sum(level='color', axis=1)"
   ]
  },
  {
   "cell_type": "markdown",
   "metadata": {},
   "source": [
    "### Indexación con columnas de un DataFrame\n",
    "\n",
    "No es inusual querer usar una o más columnas de un DataFrame como índice\n",
    "de fila; alternativamente, es posible que desee mover el índice de la\n",
    "fila a las columnas del Marco de datos. Aquí hay un ejemplo de\n",
    "DataFrame:\n"
   ]
  },
  {
   "cell_type": "code",
   "execution_count": null,
   "metadata": {},
   "outputs": [],
   "source": [
    "frame = pd.DataFrame({'a': range(7), 'b': range(7, 0, -1),\n",
    "    ...:                       'c': ['one', 'one', 'one', 'two', 'two', 'two', 'two'],\n",
    "    ...:                       'd': [0, 1, 2, 0, 1, 2, 3]})"
   ]
  },
  {
   "cell_type": "code",
   "execution_count": null,
   "metadata": {},
   "outputs": [],
   "source": [
    "frame"
   ]
  },
  {
   "cell_type": "markdown",
   "metadata": {},
   "source": [
    "La función set\\_index\\` de DataFrame creará un nuevo DataFrame\n",
    "utilizando una o más de sus columnas como índice:\n",
    " "
   ]
  },
  {
   "cell_type": "code",
   "execution_count": null,
   "metadata": {},
   "outputs": [],
   "source": [
    "frame2 = frame.set_index(['c', 'd'])"
   ]
  },
  {
   "cell_type": "code",
   "execution_count": null,
   "metadata": {},
   "outputs": [],
   "source": [
    "frame2"
   ]
  },
  {
   "cell_type": "markdown",
   "metadata": {},
   "source": [
    "Por “default”, las columnas se eliminan del DataFrame, aunque podemos\n",
    "dejarlas:"
   ]
  },
  {
   "cell_type": "code",
   "execution_count": null,
   "metadata": {},
   "outputs": [],
   "source": [
    "frame.set_index(['c', 'd'], drop=False)"
   ]
  },
  {
   "cell_type": "markdown",
   "metadata": {},
   "source": [
    "por otro lado, `reset_index`, hace lo contrario de `set_index`; los\n",
    "niveles de índice jerárquico se mueven a las columnas:\n",
    "   "
   ]
  },
  {
   "cell_type": "code",
   "execution_count": null,
   "metadata": {},
   "outputs": [],
   "source": [
    "frame2.reset_index()"
   ]
  },
  {
   "cell_type": "markdown",
   "metadata": {},
   "source": [
    "Combinación y unión de conjuntos de datos\n",
    "-----------------------------------------\n",
    "\n",
    " \n",
    "\n",
    "Los datos contenidos en los objetos pandas se pueden combinar de varias\n",
    "maneras:\n",
    "\n",
    "-   `pandas.merge` conecta filas en DataFrames en función de una o más\n",
    "    claves. Esto es familiar para los usuarios de SQL u otras bases de\n",
    "    datos relacionales, ya que implementa operaciones de *unión* en\n",
    "    bases de datos.\n",
    "\n",
    "-   `pandas.concat` concatena o “apila” objetos juntos a lo largo de un\n",
    "    eje.\n",
    "\n",
    "-   El método de `instancia combine_first` permite unir datos\n",
    "    superpuestos para completar los valores faltantes en un objeto con\n",
    "    valores de otro.\n",
    "\n",
    " \n",
    "\n",
    " "
   ]
  },
  {
   "cell_type": "markdown",
   "metadata": {},
   "source": [
    "### Unión de DataFrames Tipo-Database\n",
    "\n",
    " \n",
    "\n",
    "Las operaciones *merge* o *unión* combinan conjuntos de datos al\n",
    "vincular filas con una o más *claves*. Estas operaciones son centrales\n",
    "para las bases de datos relacionales (por ejemplo, basadas en SQL). La\n",
    "función `merge` en pandas es el principal punto de entrada para usar\n",
    "estos algoritmos en sus datos.\n",
    "\n",
    "Comencemos con un ejemplo simple:\n",
    " "
   ]
  },
  {
   "cell_type": "code",
   "execution_count": null,
   "metadata": {},
   "outputs": [],
   "source": [
    "df1 = pd.DataFrame({'key': ['b', 'b', 'a', 'c', 'a', 'a', 'b'],\n",
    "                          'data1': range(7)})"
   ]
  },
  {
   "cell_type": "code",
   "execution_count": null,
   "metadata": {},
   "outputs": [],
   "source": [
    "df2 = pd.DataFrame({'key': ['a', 'b', 'd'],\n",
    "                          'data2': range(3)})"
   ]
  },
  {
   "cell_type": "code",
   "execution_count": null,
   "metadata": {},
   "outputs": [],
   "source": [
    "df1"
   ]
  },
  {
   "cell_type": "code",
   "execution_count": null,
   "metadata": {},
   "outputs": [],
   "source": [
    "df2"
   ]
  },
  {
   "cell_type": "markdown",
   "metadata": {},
   "source": [
    "Este es un ejemplo de una unión de *muchos a uno*; los datos en `df1`\n",
    "tienen varias filas etiquetadas con `a` y `b`, mientras que `df2` tiene\n",
    "solo una fila para cada valor en la columna clave. Llamando a `merge`\n",
    "con estos objetos obtenemos:\n",
    " "
   ]
  },
  {
   "cell_type": "code",
   "execution_count": null,
   "metadata": {},
   "outputs": [],
   "source": [
    "pd.merge(df1, df2)"
   ]
  },
  {
   "cell_type": "markdown",
   "metadata": {},
   "source": [
    "En el ejemplo anterior no especifiamos en qué columna unir. Si no se\n",
    "especifica esa información, `merge` usa como claves los nombres de\n",
    "columna superpuestos . Sin embargo, es una buena práctica especificar\n",
    "explícitamente:\n",
    " "
   ]
  },
  {
   "cell_type": "code",
   "execution_count": null,
   "metadata": {},
   "outputs": [],
   "source": [
    "pd.merge(df1, df2, on='key')"
   ]
  },
  {
   "cell_type": "markdown",
   "metadata": {},
   "source": [
    "Si los nombres de columna son diferentes en cada objeto, podemos\n",
    "especificarlos por separado:\n",
    " "
   ]
  },
  {
   "cell_type": "code",
   "execution_count": null,
   "metadata": {},
   "outputs": [],
   "source": [
    "df3 = pd.DataFrame({'lkey': ['b', 'b', 'a', 'c', 'a', 'a', 'b'],\n",
    "    ...:                     'data1': range(7)})"
   ]
  },
  {
   "cell_type": "code",
   "execution_count": null,
   "metadata": {},
   "outputs": [],
   "source": [
    "df4 = pd.DataFrame({'rkey': ['a', 'b', 'd'],\n",
    "    ...:                     'data2': range(3)})"
   ]
  },
  {
   "cell_type": "code",
   "execution_count": null,
   "metadata": {},
   "outputs": [],
   "source": [
    "pd.merge(df3, df4, left_on='lkey', right_on='rkey')"
   ]
  },
  {
   "cell_type": "markdown",
   "metadata": {},
   "source": [
    "Notamos que en el resultado faltan los valores `'c'` y `'d'` y los datos\n",
    "asociados. Por defecto `merge` hace una unión `'inner'`; Las claves en\n",
    "el resultado son la intersección, o el conjunto común que se encuentra\n",
    "en ambas tablas. Otras opciones posibles son `'left'`, `'right'` y\n",
    "`'outer'`. La unión outer toma la unión de las teclas, combinando el\n",
    "efecto de aplicar las uniones izquierda y derecha:\n",
    "  "
   ]
  },
  {
   "cell_type": "code",
   "execution_count": null,
   "metadata": {},
   "outputs": [],
   "source": [
    "pd.merge(df1, df2, how='outer')"
   ]
  },
  {
   "cell_type": "markdown",
   "metadata": {},
   "source": [
    "#### Opciones de how\n",
    "\n",
    "| *Opción* | *Descripción*                                                                                                                  |\n",
    "|:---------|:-------------------------------------------------------------------------------------------------------------------------------|\n",
    "| `inner`  | Usa la intersección de claves de ambos frames, similar a una unión interna de SQL; preserva el orden de las claves izquierdas. |\n",
    "| `left`   | Usa solo las claves del frame izquierdo, similar a una unión externa izquierda de SQL; preserva el orden de las claves.        |\n",
    "| `outer`  | Usa la unión de claves de ambos frames, similar a una unión externa completa de SQL; ordena las claves lexicográficamente.     |\n",
    "| `right`  | Usa solo las claves del frame derecho, similar a una unión externa derecha de SQL; preservar el orden de las claves.           |\n",
    "\n",
    " \n",
    "\n",
    "Las uniones de *muchos-a-muchos* tienen un comportamiento bien definido,\n",
    "aunque no necesariamente intuitivo. Ejemplo:\n",
    "\n",
    "  "
   ]
  },
  {
   "cell_type": "code",
   "execution_count": null,
   "metadata": {},
   "outputs": [],
   "source": [
    "df1 = pd.DataFrame({'key': ['b', 'b', 'a', 'c', 'a', 'b'], 'data1': range(6)})"
   ]
  },
  {
   "cell_type": "code",
   "execution_count": null,
   "metadata": {},
   "outputs": [],
   "source": [
    "df2 = pd.DataFrame({'key': ['a', 'b', 'a', 'b', 'd'],  'data2': range(5)})"
   ]
  },
  {
   "cell_type": "code",
   "execution_count": null,
   "metadata": {},
   "outputs": [],
   "source": [
    "df1"
   ]
  },
  {
   "cell_type": "code",
   "execution_count": null,
   "metadata": {},
   "outputs": [],
   "source": [
    "df2"
   ]
  },
  {
   "cell_type": "code",
   "execution_count": null,
   "metadata": {},
   "outputs": [],
   "source": [
    "pd.merge(df1, df2, on='key', how='left')"
   ]
  },
  {
   "cell_type": "markdown",
   "metadata": {},
   "source": [
    "Las uniones de *muchos-a-muchos* forman el producto Cartesiano de las\n",
    "filas. Como había tres filas `'b'` en el DataFrame izquierdo y dos en el\n",
    "derecho, hay seis filas `'b'` en el resultado. El método de combinación\n",
    "solo afecta a los distintos valores clave que aparecen en el resultado:\n",
    " "
   ]
  },
  {
   "cell_type": "code",
   "execution_count": null,
   "metadata": {},
   "outputs": [],
   "source": [
    "pd.merge(df1, df2, how='inner')"
   ]
  },
  {
   "cell_type": "markdown",
   "metadata": {},
   "source": [
    "Para unir con varias claves, pasamos una lista de nombres de columnas:\n",
    " "
   ]
  },
  {
   "cell_type": "code",
   "execution_count": null,
   "metadata": {},
   "outputs": [],
   "source": [
    "left = pd.DataFrame({'key1': ['foo', 'foo', 'bar'],\n",
    "                           'key2': ['one', 'two', 'one'],\n",
    "                           'lval': [1, 2, 3]})"
   ]
  },
  {
   "cell_type": "code",
   "execution_count": null,
   "metadata": {},
   "outputs": [],
   "source": [
    "right = pd.DataFrame({'key1': ['foo', 'foo', 'bar', 'bar'],\n",
    "                           'key2': ['one', 'one', 'one', 'two'],\n",
    "                             'rval': [4, 5, 6, 7]})"
   ]
  },
  {
   "cell_type": "code",
   "execution_count": null,
   "metadata": {},
   "outputs": [],
   "source": [
    "pd.merge(left, right, on=['key1', 'key2'], how='outer')"
   ]
  },
  {
   "cell_type": "markdown",
   "metadata": {},
   "source": [
    "Para determinar qué combinaciones de claves aparecerán en el resultado\n",
    "dependiendo de la elección del método de unión (“merge”), piense en las\n",
    "múltiples claves como formando un arreglo de tuplas que se usan como una\n",
    "sola clave de unión (aunque en realidad no se implementa de esa manera).\n",
    "\n",
    "Un último tema a considerar en las operaciones de unión es el\n",
    "tratamiento de los nombres de columnas superpuestos. Si bien podemos\n",
    "abordar la superposición manualmente, `merge` tiene una opción\n",
    "`suffixes` para especificar cadenas que se anexarán a nombres\n",
    "superpuestos en los objetos DataFrame izquierdo y derecho:\n",
    "\n",
    " \n",
    " "
   ]
  },
  {
   "cell_type": "code",
   "execution_count": null,
   "metadata": {},
   "outputs": [],
   "source": [
    "pd.merge(left, right, on='key1')"
   ]
  },
  {
   "cell_type": "code",
   "execution_count": null,
   "metadata": {},
   "outputs": [],
   "source": [
    "pd.merge(left, right, on='key1', suffixes=('_left', '_right'))"
   ]
  },
  {
   "cell_type": "markdown",
   "metadata": {},
   "source": [
    "#### Parámetros de la función merge\n",
    "\n",
    "| *Argumento*   | *Descripción*                                                                                                                                                                                                                                                                                                                                                                                                        |\n",
    "|:--------------|:---------------------------------------------------------------------------------------------------------------------------------------------------------------------------------------------------------------------------------------------------------------------------------------------------------------------------------------------------------------------------------------------------------------------|\n",
    "| `copy`        | Si es False, evita copiar si es posible. *“Default”, True*.                                                                                                                                                                                                                                                                                                                                                          |\n",
    "| `how`         | Tipo de unión a realizar. Ver la tabla anterior de “Opciones de how”. *“Default”, ‘inner’*                                                                                                                                                                                                                                                                                                                           |\n",
    "| `indicator`   | Si es True, agrega una columna al DataFrame de salida llamado \"\\_merge\" con información sobre el origen de cada fila. Le podemos dar un nombre diferente a la columna proporcionando un argumento de cadena. *“Default”, False*.                                                                                                                                                                                     |\n",
    "| `left_index`  | Usa el índice del DataFrame izquierdo como la(s) clave(s) de unión. Si es un MultiIndex, la cantidad de claves en el otro DataFrame (ya sea el índice o una cantidad de columnas) debe coincidir con la cantidad de niveles. *“Default”, False*.                                                                                                                                                                     |\n",
    "| `left_on`     | Nombres de columna o nivel de índice para unirse en el DataFrame izquierdo. También puede ser un arreglo o una lista de arreglos de la longitud del DataFrame izquierdo. Estos arreglos se tratan como si fueran columnas.                                                                                                                                                                                           |\n",
    "| `on`          | Nombres de columna o nivel de índice para unirse. Estos deben encontrarse en ambos DataFrames. Si *on* es None y no se está fusionanso en los índices, entonces por default se hace la intersección de las columnas en ambos DataFrames.                                                                                                                                                                             |\n",
    "| `right`       | Objeto con el cual fusionarse.                                                                                                                                                                                                                                                                                                                                                                                       |\n",
    "| `right_index` | Usa el índice del DataFrame derecho como clave de unión. Las mismas advertencias que left\\_index. *“Default”, False*.                                                                                                                                                                                                                                                                                                |\n",
    "| `right_on`    | Nombres de columna o nivel de índice para unirse en el DataFrame derecho. También puede ser un arreglo o una lista de arreglos de la longitud del DataFrame derecho. Estos arreglos se tratan como si fueran columnas.                                                                                                                                                                                               |\n",
    "| `sort`        | Ordena las claves de unión lexicográficamente en el DataFrame resultante. Si es False, el orden de las claves de unión depende del tipo de combinación (cer argumento `how`). *“Default”, False*.                                                                                                                                                                                                                    |\n",
    "| `suffixes`    | Tupla en la que cada elemento es una cadena —opcional— que indica el sufijo que se agregará a los nombres de las columnas superpuestas a la *izquierda* y a la *derecha*, respectivamente. Pase un valor de None en lugar de una cadena para indicar que el nombre de la columna de *izquierda* o *derecha* debe dejarse como está, sin sufijo. Al menos uno de los valores no debe ser None. *“Default” (“x”, “y”*. |\n",
    "\n",
    " \n",
    "\n",
    " \n",
    "\n",
    " "
   ]
  },
  {
   "cell_type": "markdown",
   "metadata": {},
   "source": [
    "### Unión con Índice\n",
    "\n",
    " \n",
    "\n",
    "En algunos casos, las claves de unión en un DataFrame se encontrarán en\n",
    "su índice. En este caso, puede pasar `left_index = True` o\n",
    "`right_index = True` —o ambos— para indicar que el índice debe usarse\n",
    "como la clave de unión:\n",
    " \n",
    "    "
   ]
  },
  {
   "cell_type": "code",
   "execution_count": null,
   "metadata": {},
   "outputs": [],
   "source": [
    "left1 = pd.DataFrame({'key': ['a', 'b', 'a', 'a', 'b', 'c'],\n",
    "    ...:                        'value': range(6)})"
   ]
  },
  {
   "cell_type": "code",
   "execution_count": null,
   "metadata": {},
   "outputs": [],
   "source": [
    "   right1 = pd.DataFrame({'group_val': [3.5, 7]}, index=['a', 'b'])"
   ]
  },
  {
   "cell_type": "code",
   "execution_count": null,
   "metadata": {},
   "outputs": [],
   "source": [
    "right1 = pd.DataFrame({'group_val': [3.5, 7]}, index=['a', 'b'])\n",
    "\n",
    "    "
   ]
  },
  {
   "cell_type": "code",
   "execution_count": null,
   "metadata": {},
   "outputs": [],
   "source": [
    "left1"
   ]
  },
  {
   "cell_type": "code",
   "execution_count": null,
   "metadata": {},
   "outputs": [],
   "source": [
    "right1"
   ]
  },
  {
   "cell_type": "code",
   "execution_count": null,
   "metadata": {},
   "outputs": [],
   "source": [
    "pd.merge(left1, right1, left_on='key', right_index=True)"
   ]
  },
  {
   "cell_type": "markdown",
   "metadata": {},
   "source": [
    "Dado que por “default” el método de unión es intersecar las claves de\n",
    "unión, en lugar de eso podemos formar la unión de ellas con una unión\n",
    "outer:"
   ]
  },
  {
   "cell_type": "code",
   "execution_count": null,
   "metadata": {},
   "outputs": [],
   "source": [
    "pd.merge(left1, right1, left_on='key', right_index=True, how='outer')"
   ]
  },
  {
   "cell_type": "markdown",
   "metadata": {},
   "source": [
    "Con los datos indexados jerárquicamente, las cosas son más complicadas,\n",
    "ya que unir con índice es implícitamente una unión de claves-múltiples:"
   ]
  },
  {
   "cell_type": "code",
   "execution_count": null,
   "metadata": {},
   "outputs": [],
   "source": [
    "lefth = pd.DataFrame({'key1': ['Ohio', 'Ohio', 'Ohio', 'Nevada', 'Nevada'],\n",
    "    ...:                       'key2': [2000, 2001, 2002, 2001, 2002],\n",
    "    ...:                       'data': np.arange(5.)})"
   ]
  },
  {
   "cell_type": "code",
   "execution_count": null,
   "metadata": {},
   "outputs": [],
   "source": [
    "righth = pd.DataFrame(np.arange(12).reshape((6, 2)),\n",
    "    ...:                       index=[['Nevada', 'Nevada', 'Ohio', 'Ohio', 'Ohio', 'Ohio'], \n",
    "    ...:                              [2001, 2000, 2000, 2000, 2001, 2002]],\n",
    "    ...:                       columns=['event1', 'event2'])"
   ]
  },
  {
   "cell_type": "code",
   "execution_count": null,
   "metadata": {},
   "outputs": [],
   "source": [
    "lefth"
   ]
  },
  {
   "cell_type": "code",
   "execution_count": null,
   "metadata": {},
   "outputs": [],
   "source": [
    "righth"
   ]
  },
  {
   "cell_type": "markdown",
   "metadata": {},
   "source": [
    "En este caso, debemos indicar varias columnas para combinar como una\n",
    "lista (notese el manejo de valores de índice duplicados con\n",
    "`how = 'outer’`):"
   ]
  },
  {
   "cell_type": "code",
   "execution_count": null,
   "metadata": {},
   "outputs": [],
   "source": [
    "pd.merge(lefth, righth, left_on=['key1', 'key2'], right_index=True)"
   ]
  },
  {
   "cell_type": "code",
   "execution_count": null,
   "metadata": {},
   "outputs": [],
   "source": [
    "pd.merge(lefth, righth, left_on=['key1', 'key2'], right_index=True, how='outer')"
   ]
  },
  {
   "cell_type": "markdown",
   "metadata": {},
   "source": [
    "También es posible usar los índices de ambos lados de la unión:\n",
    " "
   ]
  },
  {
   "cell_type": "code",
   "execution_count": null,
   "metadata": {},
   "outputs": [],
   "source": [
    "left2 = pd.DataFrame([[1., 2.], [3., 4.], [5., 6.]],\n",
    "    ...:                      index=['a', 'c', 'e'],\n",
    "    ...:                      columns=['Ohio', 'Nevada'])"
   ]
  },
  {
   "cell_type": "code",
   "execution_count": null,
   "metadata": {},
   "outputs": [],
   "source": [
    "right2 = pd.DataFrame([[7., 8.], [9., 10.], [11., 12.], [13, 14]],\n",
    "    ...:                       index=['b', 'c', 'd', 'e'],\n",
    "    ...:                       columns=['Missouri', 'Alabama'])\n",
    "\n",
    "   "
   ]
  },
  {
   "cell_type": "code",
   "execution_count": null,
   "metadata": {},
   "outputs": [],
   "source": [
    "left2"
   ]
  },
  {
   "cell_type": "code",
   "execution_count": null,
   "metadata": {},
   "outputs": [],
   "source": [
    "right2"
   ]
  },
  {
   "cell_type": "code",
   "execution_count": null,
   "metadata": {},
   "outputs": [],
   "source": [
    "pd.merge(left2, right2, how='outer', left_index=True, right_index=True)"
   ]
  },
  {
   "cell_type": "markdown",
   "metadata": {},
   "source": [
    "`join` es una instancia muy práctica de DataFrame para fusionar por\n",
    "índice. También se puede usar para combinar muchos objetos DataFrame que\n",
    "tienen índices iguales o similares pero columnas no-superpuestas. En el\n",
    "ejemplo anterior, podríamos haber escrito:"
   ]
  },
  {
   "cell_type": "code",
   "execution_count": null,
   "metadata": {},
   "outputs": [],
   "source": [
    "left2.join(right2, how='outer')"
   ]
  },
  {
   "cell_type": "markdown",
   "metadata": {},
   "source": [
    "En parte por razones heredadas (es decir, versiones mucho más antiguas\n",
    "de pandas), el método `join` de DataFrame realiza una unión izquierda en\n",
    "las claves de unión, preservando exactamente el índice de fila del frame\n",
    "izquierdo. También admite unirse al índice del DataFrame pasado en una\n",
    "de las columnas del DataFrame que llama:"
   ]
  },
  {
   "cell_type": "code",
   "execution_count": null,
   "metadata": {},
   "outputs": [],
   "source": [
    "left1.join(right1, on='key')"
   ]
  },
  {
   "cell_type": "markdown",
   "metadata": {},
   "source": [
    "Por último, para uniones simples de índice sobre índice, podemos pasar\n",
    "una lista de DataFrames a `join` como alternativa al uso de la función\n",
    "`concat` más general que se describe en la siguiente sección:\n",
    " "
   ]
  },
  {
   "cell_type": "code",
   "execution_count": null,
   "metadata": {},
   "outputs": [],
   "source": [
    "another = pd.DataFrame([[7., 8.], [9., 10.], [11., 12.], [16., 17.]],\n",
    "                             index=['a', 'c', 'e', 'f'],\n",
    "                             columns=['New York', 'Oregon'])\n",
    "\n",
    "   "
   ]
  },
  {
   "cell_type": "code",
   "execution_count": null,
   "metadata": {},
   "outputs": [],
   "source": [
    "another"
   ]
  },
  {
   "cell_type": "code",
   "execution_count": null,
   "metadata": {},
   "outputs": [],
   "source": [
    "left2.join([right2, another])"
   ]
  },
  {
   "cell_type": "code",
   "execution_count": null,
   "metadata": {},
   "outputs": [],
   "source": [
    "left2.join([right2, another], how='outer')"
   ]
  },
  {
   "cell_type": "markdown",
   "metadata": {},
   "source": [
    "### Concatenación a lo Largo de un Eje\n",
    "\n",
    " \n",
    "\n",
    "Otro tipo de operación de combinación de datos se conoce indistintamente\n",
    "como concatenación, enlace o apilamiento. La función `concatenate` de\n",
    "NumPy puede hacer esto con los arreglos de NumPy:"
   ]
  },
  {
   "cell_type": "code",
   "execution_count": null,
   "metadata": {},
   "outputs": [],
   "source": [
    "arr = np.arange(12).reshape((3, 4))"
   ]
  },
  {
   "cell_type": "code",
   "execution_count": null,
   "metadata": {},
   "outputs": [],
   "source": [
    "arr"
   ]
  },
  {
   "cell_type": "code",
   "execution_count": null,
   "metadata": {},
   "outputs": [],
   "source": [
    "np.concatenate([arr, arr], axis=1)"
   ]
  },
  {
   "cell_type": "markdown",
   "metadata": {},
   "source": [
    "En el contexto de los objetos pandas tales como Series y DataFrame,\n",
    "tener ejes etiquetados permite generalizar aún más la concatenación de\n",
    "arreglos. En particular, hay varias posibilidades en las que pensar:\n",
    "\n",
    "-   Si los objetos se indexan de manera diferente en los otros ejes\n",
    "    ¿Deberíamos combinar los elementos distintos en estos ejes o usar\n",
    "    solo los valores compartidos (la intersección)?\n",
    "\n",
    "-   ¿Los fragmentos de datos concatenados deben ser identificables en el\n",
    "    objeto resultante?\n",
    "\n",
    "-   ¿El “eje de concatenación” contiene datos que necesitan ser\n",
    "    preservados? En muchos casos, las etiquetas de “default” enteras en\n",
    "    un DataFrame mejor se descartan durante la concatenación.\n",
    "\n",
    " \n",
    "\n",
    "La función `concat` en pandas proporciona una manera consistente de\n",
    "abordar cada una de estas posibilidades. Veamos una serie de ejemplos\n",
    "para ilustrar cómo funciona. Supongamos que tenemos tres Series sin\n",
    "superposición de índice:"
   ]
  },
  {
   "cell_type": "code",
   "execution_count": null,
   "metadata": {},
   "outputs": [],
   "source": [
    "s1 = pd.Series([0, 1], index=['a', 'b'])"
   ]
  },
  {
   "cell_type": "code",
   "execution_count": null,
   "metadata": {},
   "outputs": [],
   "source": [
    "s2 = pd.Series([2, 3, 4], index=['c', 'd', 'e'])"
   ]
  },
  {
   "cell_type": "code",
   "execution_count": null,
   "metadata": {},
   "outputs": [],
   "source": [
    "s3 = pd.Series([5, 6], index=['f', 'g'])"
   ]
  },
  {
   "cell_type": "markdown",
   "metadata": {},
   "source": [
    "Llamar a `concat` con estos objetos en una lista une los valores y los\n",
    "índices:"
   ]
  },
  {
   "cell_type": "code",
   "execution_count": null,
   "metadata": {},
   "outputs": [],
   "source": [
    "s1"
   ]
  },
  {
   "cell_type": "code",
   "execution_count": null,
   "metadata": {},
   "outputs": [],
   "source": [
    "pd.concat([s1, s2, s3])"
   ]
  },
  {
   "cell_type": "markdown",
   "metadata": {},
   "source": [
    "Por “default” `concat` funciona a lo largo de `axis = 0`, produciendo\n",
    "otra serie. Si pasamos `axis = 1`, el resultado será un DataFrame\n",
    "(`axis = 1` son las columnas):"
   ]
  },
  {
   "cell_type": "code",
   "execution_count": null,
   "metadata": {},
   "outputs": [],
   "source": [
    "pd.concat([s1, s2, s3], axis=1, sort=False)"
   ]
  },
  {
   "cell_type": "markdown",
   "metadata": {},
   "source": [
    "En este caso no hay superposición en el otro eje, que como podemos ver\n",
    "es la unión ordenada (la unión `'outer'`) de los índices. En lugar de\n",
    "esto, podemos intersecarlos pasando `join = 'inner’`:"
   ]
  },
  {
   "cell_type": "code",
   "execution_count": null,
   "metadata": {},
   "outputs": [],
   "source": [
    "s4 = pd.concat([s1, s3])"
   ]
  },
  {
   "cell_type": "code",
   "execution_count": null,
   "metadata": {},
   "outputs": [],
   "source": [
    "s4"
   ]
  },
  {
   "cell_type": "code",
   "execution_count": null,
   "metadata": {},
   "outputs": [],
   "source": [
    "pd.concat([s1, s4], axis=1, sort=False)"
   ]
  },
  {
   "cell_type": "code",
   "execution_count": null,
   "metadata": {},
   "outputs": [],
   "source": [
    "pd.concat([s1, s4], axis=1, join='inner')"
   ]
  },
  {
   "cell_type": "markdown",
   "metadata": {},
   "source": [
    "En este último ejemplo, las etiquetas `'f'` y `'g'` desaparecieron\n",
    "debido a la opción `join = 'inner'`.\n",
    "\n",
    "Incluso podemos especificar los ejes que se utilizarán en los otros ejes\n",
    "con el metodo `reidex`:\n",
    "\n",
    " \n",
    "\n",
    "NOTA: El libro usa join\\_axes:\n",
    "`pd.concat([s1, s4], axis=1, join_axes=[['a', 'c', 'b', 'e']])`, página\n",
    "238 77\\*\\*\\*\\*\\*\\*\\*\\*\\*\\*\\*\\*\\*\\*\\*\\*\\* QUITAR EN\n",
    "FINAL\\*\\*\\*\\*\\*\\*\\*\\*\\*\\*\\*\\*\\*\\*\\*\\*\\*\\*\\*\\*\\*\\*\\*\\*\\*\\*\\*\\*\\*\\*\\*\\*\\*\\*\\*\\*\\*"
   ]
  },
  {
   "cell_type": "code",
   "execution_count": null,
   "metadata": {},
   "outputs": [],
   "source": [
    "pd.concat([s1, s4], axis=1, sort=False).reindex(['a', 'c', 'b', 'e'])"
   ]
  },
  {
   "cell_type": "markdown",
   "metadata": {},
   "source": [
    "Un problema potencial es que las piezas concatenadas no son\n",
    "identificables en el resultado. Supongamos, en cambio, que desea crear\n",
    "un índice jerárquico en el eje de concatenación. Para hacer esto, usamos\n",
    "el argumento `keys`:"
   ]
  },
  {
   "cell_type": "code",
   "execution_count": null,
   "metadata": {},
   "outputs": [],
   "source": [
    "result = pd.concat([s1, s1, s3], keys=['one', 'two', 'three'])"
   ]
  },
  {
   "cell_type": "code",
   "execution_count": null,
   "metadata": {},
   "outputs": [],
   "source": [
    "result"
   ]
  },
  {
   "cell_type": "code",
   "execution_count": null,
   "metadata": {},
   "outputs": [],
   "source": [
    "result.unstack()"
   ]
  },
  {
   "cell_type": "markdown",
   "metadata": {},
   "source": [
    "En el caso de combinar Series a lo largo del `axis = 1`, `keys` se\n",
    "convierte en los encabezados de columna del DataFrame:"
   ]
  },
  {
   "cell_type": "code",
   "execution_count": null,
   "metadata": {},
   "outputs": [],
   "source": [
    "pd.concat([s1, s2, s3], axis=1, sort = True, keys=['one', 'two', 'three'])"
   ]
  },
  {
   "cell_type": "markdown",
   "metadata": {},
   "source": [
    "La misma lógica se extiende a los objetos DataFrame:"
   ]
  },
  {
   "cell_type": "code",
   "execution_count": null,
   "metadata": {},
   "outputs": [],
   "source": [
    "df1 = pd.DataFrame(np.arange(6).reshape(3, 2), index=['a', 'b', 'c'],  columns=['one', 'two'])"
   ]
  },
  {
   "cell_type": "code",
   "execution_count": null,
   "metadata": {},
   "outputs": [],
   "source": [
    "df2 = pd.DataFrame(5 + np.arange(4).reshape(2, 2), index=['a', 'c'],  columns=['three', 'four'])"
   ]
  },
  {
   "cell_type": "code",
   "execution_count": null,
   "metadata": {},
   "outputs": [],
   "source": [
    "df1"
   ]
  },
  {
   "cell_type": "code",
   "execution_count": null,
   "metadata": {},
   "outputs": [],
   "source": [
    "df2"
   ]
  },
  {
   "cell_type": "code",
   "execution_count": null,
   "metadata": {},
   "outputs": [],
   "source": [
    "pd.concat([df1, df2], axis=1, sort = True,  keys=['level1', 'level2'])"
   ]
  },
  {
   "cell_type": "markdown",
   "metadata": {},
   "source": [
    "Si pasamos un dict de objetos en lugar de una lista, las claves del dict\n",
    "se usarán para la opción `keys`:"
   ]
  },
  {
   "cell_type": "code",
   "execution_count": null,
   "metadata": {},
   "outputs": [],
   "source": [
    "pd.concat({'level1': df1, 'level2': df2}, axis=1, sort = True)"
   ]
  },
  {
   "cell_type": "markdown",
   "metadata": {},
   "source": [
    "Existen argumentos adicionales que rigen cómo se crea el índice\n",
    "jerárquico (siguiente tabla). Por ejemplo, podemos nombrar los niveles\n",
    "de eje creados con el argumento `names`:\n",
    " "
   ]
  },
  {
   "cell_type": "code",
   "execution_count": null,
   "metadata": {},
   "outputs": [],
   "source": [
    "pd.concat([df1, df2], axis=1, sort = True, keys=['level1', 'level2'],\n",
    "     ...:           names=['upper', 'lower'])"
   ]
  },
  {
   "cell_type": "markdown",
   "metadata": {},
   "source": [
    "Una última consideración con referencia los DataFrames en los que el\n",
    "índice de fila no contiene datos relevantes:"
   ]
  },
  {
   "cell_type": "code",
   "execution_count": null,
   "metadata": {},
   "outputs": [],
   "source": [
    "df1 = pd.DataFrame(np.random.randn(3, 4), columns=['a', 'b', 'c', 'd'])"
   ]
  },
  {
   "cell_type": "code",
   "execution_count": null,
   "metadata": {},
   "outputs": [],
   "source": [
    "df2 = pd.DataFrame(np.random.randn(2, 3), columns=['b', 'd', 'a'])"
   ]
  },
  {
   "cell_type": "code",
   "execution_count": null,
   "metadata": {},
   "outputs": [],
   "source": [
    "df1"
   ]
  },
  {
   "cell_type": "code",
   "execution_count": null,
   "metadata": {},
   "outputs": [],
   "source": [
    "df2"
   ]
  },
  {
   "cell_type": "markdown",
   "metadata": {},
   "source": [
    "En este caso, podemos pasar `ignore_index = True`:\n",
    " "
   ]
  },
  {
   "cell_type": "code",
   "execution_count": null,
   "metadata": {},
   "outputs": [],
   "source": [
    "pd.concat([df1, df2], ignore_index=True, sort = True)"
   ]
  },
  {
   "cell_type": "markdown",
   "metadata": {},
   "source": [
    "#### Argumentos de la función concat\n",
    "\n",
    "| *Argumento*        | *Descripción*                                                                                                                                                                                                                                                                                |\n",
    "|:-------------------|:---------------------------------------------------------------------------------------------------------------------------------------------------------------------------------------------------------------------------------------------------------------------------------------------|\n",
    "| `axis`             | Eje sobre el cual concatenar.                                                                                                                                                                                                                                                                |\n",
    "| `copy`             | Si es False no copia datos innecesariamente.                                                                                                                                                                                                                                                 |\n",
    "| `ignore_index`     | Si es verdadero, no usa los valores de índice a lo largo del eje de concatenación. El eje resultante se etiquetará como 0, …, n - 1.                                                                                                                                                         |\n",
    "| `join`             | Cómo manejar los índices en otro eje (o ejes).                                                                                                                                                                                                                                               |\n",
    "| `keys`             | Si pasamos varios niveles, deben contener tuplas. Construye el índice jerárquico usando las claves pasadas como el nivel más externo.                                                                                                                                                        |\n",
    "| `levels`           | Niveles específicos (valores únicos) a utilizar para construir un MultiIndex. De lo contrario, se deducirán de las claves.                                                                                                                                                                   |\n",
    "| `objs`             | Si se pasa un dict, las claves ordenadas se utilizarán como el argumento *keys*, a menos que se pase el argumento *keys*, en cuyo caso se seleccionarán los valores. Cualquier objeto None se eliminará silenciosamente a menos que todos sean None, en cuyo caso se generará un ValueError. |\n",
    "| `names`            | Nombres para los niveles en el índice jerárquico resultante.                                                                                                                                                                                                                                 |\n",
    "| `sort`             | Ordena el eje de no concatenación si aún no está alineado cuando *join* es “outer”. Esto no tiene efecto cuando `join = 'inner'`, que ya preserva el orden del eje de no concatenación.                                                                                                      |\n",
    "| `verify_integrity` | Checa si el nuevo eje concatenado contiene duplicados. Esto puede ser muy costoso en relación con la concatenación de datos real.                                                                                                                                                            |\n",
    "\n",
    " \n",
    "\n",
    " \n",
    "\n",
    " "
   ]
  },
  {
   "cell_type": "markdown",
   "metadata": {},
   "source": [
    "### Combinación de Datos con Superposición\n",
    "\n",
    " \n",
    "\n",
    "Existe otra situación de combinación de datos que no se puede expresar\n",
    "como una operación de unión o concatenación. Podemos tener dos conjuntos\n",
    "de datos cuyos índices se superponen en su totalidad o en parte. Como\n",
    "ejemplo, consideremos la función `where` de NumPy, que realiza el\n",
    "equivalente orientado a arreglos de una expresión if-else:\n",
    " \n",
    "    "
   ]
  },
  {
   "cell_type": "code",
   "execution_count": null,
   "metadata": {},
   "outputs": [],
   "source": [
    "a = pd.Series([np.nan, 2.5, np.nan, 3.5, 4.5, np.nan],\n",
    "     ...:                index=['f', 'e', 'd', 'c', 'b', 'a'])"
   ]
  },
  {
   "cell_type": "code",
   "execution_count": null,
   "metadata": {},
   "outputs": [],
   "source": [
    "b = pd.Series(np.arange(len(a), dtype=np.float64),\n",
    "     ...:               index=['f', 'e', 'd', 'c', 'b', 'a'])"
   ]
  },
  {
   "cell_type": "code",
   "execution_count": null,
   "metadata": {},
   "outputs": [],
   "source": [
    "a"
   ]
  },
  {
   "cell_type": "code",
   "execution_count": null,
   "metadata": {},
   "outputs": [],
   "source": [
    "b"
   ]
  },
  {
   "cell_type": "code",
   "execution_count": null,
   "metadata": {},
   "outputs": [],
   "source": [
    "np.where(pd.isnull(a), b, a)"
   ]
  },
  {
   "cell_type": "markdown",
   "metadata": {},
   "source": [
    "Las Series tienen un método `combine_first`, que realiza el equivalente\n",
    "de esta operación junto con la lógica de alineación de datos habitual de\n",
    "pandas:"
   ]
  },
  {
   "cell_type": "code",
   "execution_count": null,
   "metadata": {},
   "outputs": [],
   "source": [
    "b[:-2].combine_first(a[2:])"
   ]
  },
  {
   "cell_type": "markdown",
   "metadata": {},
   "source": [
    "Con DataFrames, `combine_first` hace lo mismo columna por columna, por\n",
    "lo que podemos considerarlo como “parchar” los datos que faltan en el\n",
    "objeto que llama con los datos del objeto que pasa:"
   ]
  },
  {
   "cell_type": "code",
   "execution_count": null,
   "metadata": {},
   "outputs": [],
   "source": [
    "df1 = pd.DataFrame({'a': [1., np.nan, 5., np.nan],\n",
    "     ...:                     'b': [np.nan, 2., np.nan, 6.],\n",
    "     ...:                     'c': range(2, 18, 4)})"
   ]
  },
  {
   "cell_type": "code",
   "execution_count": null,
   "metadata": {},
   "outputs": [],
   "source": [
    "df2 = pd.DataFrame({'a': [5., 4., np.nan, 3., 7.],\n",
    "     ...:                     'b': [np.nan, 3., 4., 6., 8.]})"
   ]
  },
  {
   "cell_type": "code",
   "execution_count": null,
   "metadata": {},
   "outputs": [],
   "source": [
    "df1"
   ]
  },
  {
   "cell_type": "code",
   "execution_count": null,
   "metadata": {},
   "outputs": [],
   "source": [
    "df2"
   ]
  },
  {
   "cell_type": "code",
   "execution_count": null,
   "metadata": {},
   "outputs": [],
   "source": [
    "df1.combine_first(df2)"
   ]
  },
  {
   "cell_type": "markdown",
   "metadata": {},
   "source": [
    "Reformateo\n",
    "----------\n",
    "\n",
    " \n",
    "\n",
    "Existen varias operaciones básicas para reorganizar datos tabulares.\n",
    "Estos se denominan alternativamente operaciones de *reformato* o\n",
    "*pivote*.\n",
    "\n",
    "### Remodelación con Indexación Jerárquica\n",
    "\n",
    "La indexación jerárquica proporciona una forma consistente de\n",
    "reorganizar los datos en un DataFrame. Hay dos acciones principales:\n",
    "\n",
    "-   `stack`     “Rota” o pivota de las columnas en los datos a las\n",
    "    filas.\n",
    "\n",
    "-   `unstack`   Pivota de las filas a las columnas.\n",
    "\n",
    " \n",
    "\n",
    "Veamos estas operaciones con una serie de ejemplos. Consideremos un\n",
    "DataFrame pequeño con arreglos de cadenas como índices de fila y\n",
    "columna:"
   ]
  },
  {
   "cell_type": "code",
   "execution_count": null,
   "metadata": {},
   "outputs": [],
   "source": [
    "data = pd.DataFrame(np.arange(6).reshape((2, 3)),\n",
    "                         index=pd.Index(['Ohio', 'Colorado'], name='state'),\n",
    "                         columns=pd.Index(['one', 'two', 'three'],\n",
    "                         name='number'))"
   ]
  },
  {
   "cell_type": "code",
   "execution_count": null,
   "metadata": {},
   "outputs": [],
   "source": [
    "data"
   ]
  },
  {
   "cell_type": "markdown",
   "metadata": {},
   "source": [
    "El método `stack` en estos datos pivota las columnas en las filas,\n",
    "produciendo una Serie:\n",
    " "
   ]
  },
  {
   "cell_type": "code",
   "execution_count": null,
   "metadata": {},
   "outputs": [],
   "source": [
    "result = data.stack()"
   ]
  },
  {
   "cell_type": "code",
   "execution_count": null,
   "metadata": {},
   "outputs": [],
   "source": [
    "result"
   ]
  },
  {
   "cell_type": "markdown",
   "metadata": {},
   "source": [
    "Desde una serie indexada jerárquicamente, podemos reorganizar los datos\n",
    "en un DataFrame con `unstack`:"
   ]
  },
  {
   "cell_type": "code",
   "execution_count": null,
   "metadata": {},
   "outputs": [],
   "source": [
    "result.unstack()"
   ]
  },
  {
   "cell_type": "markdown",
   "metadata": {},
   "source": [
    "Por “default”, el nivel más interno no está apilado (lo mismo con\n",
    "`stack`). Podemos desapilar un nivel diferente pasando un número o\n",
    "nombre de nivel:"
   ]
  },
  {
   "cell_type": "code",
   "execution_count": null,
   "metadata": {},
   "outputs": [],
   "source": [
    "result.unstack(0)"
   ]
  },
  {
   "cell_type": "code",
   "execution_count": null,
   "metadata": {},
   "outputs": [],
   "source": [
    "result.unstack('state')"
   ]
  },
  {
   "cell_type": "markdown",
   "metadata": {},
   "source": [
    "Desapilar podría introducir datos faltantes si no se encuentran todos\n",
    "los valores en el nivel en cada uno de los subgrupos:"
   ]
  },
  {
   "cell_type": "code",
   "execution_count": null,
   "metadata": {},
   "outputs": [],
   "source": [
    "s1 = pd.Series([0, 1, 2, 3], index=['a', 'b', 'c', 'd']) "
   ]
  },
  {
   "cell_type": "code",
   "execution_count": null,
   "metadata": {},
   "outputs": [],
   "source": [
    "s2 = pd.Series([4, 5, 6], index=['c', 'd', 'e'])"
   ]
  },
  {
   "cell_type": "code",
   "execution_count": null,
   "metadata": {},
   "outputs": [],
   "source": [
    "data2 = pd.concat([s1, s2], keys=['one', 'two']) "
   ]
  },
  {
   "cell_type": "code",
   "execution_count": null,
   "metadata": {},
   "outputs": [],
   "source": [
    "data2"
   ]
  },
  {
   "cell_type": "markdown",
   "metadata": {},
   "source": [
    "El apilamiento por “default” filtra los datos faltantes, por lo que la\n",
    "operación es fácilmente invertible:"
   ]
  },
  {
   "cell_type": "code",
   "execution_count": null,
   "metadata": {},
   "outputs": [],
   "source": [
    "data2.unstack()"
   ]
  },
  {
   "cell_type": "code",
   "execution_count": null,
   "metadata": {},
   "outputs": [],
   "source": [
    "data2.unstack().stack()"
   ]
  },
  {
   "cell_type": "code",
   "execution_count": null,
   "metadata": {
    "scrolled": true
   },
   "outputs": [],
   "source": [
    "data2.unstack().stack(dropna=False)"
   ]
  },
  {
   "cell_type": "markdown",
   "metadata": {},
   "source": [
    "Cuando se desapila en un DataFrame, el nivel desapilado se convierte en\n",
    "el nivel más bajo en el resultado:"
   ]
  },
  {
   "cell_type": "code",
   "execution_count": null,
   "metadata": {},
   "outputs": [],
   "source": [
    "df = pd.DataFrame({'left': result, 'right': result + 5},\n",
    "                         columns=pd.Index(['left', 'right'], name='side')) "
   ]
  },
  {
   "cell_type": "code",
   "execution_count": null,
   "metadata": {},
   "outputs": [],
   "source": [
    "df"
   ]
  },
  {
   "cell_type": "code",
   "execution_count": null,
   "metadata": {},
   "outputs": [],
   "source": [
    "df.unstack('state')"
   ]
  },
  {
   "cell_type": "markdown",
   "metadata": {},
   "source": [
    "Al llamar a `stack`, podemos indicar el nombre del eje a apilar:\n",
    " "
   ]
  },
  {
   "cell_type": "code",
   "execution_count": null,
   "metadata": {},
   "outputs": [],
   "source": [
    "df.unstack('state').stack('side')"
   ]
  },
  {
   "cell_type": "markdown",
   "metadata": {},
   "source": [
    "### Pivotar Formato “Largo” a “Ancho”\n",
    "\n",
    " \n",
    "\n",
    "Una forma común de almacenar múltiples series de tiempo en bases de\n",
    "datos y CSV es en el formato llamado `long` o `stacked`. Carguemos\n",
    "algunos datos de ejemplo y realicemos un pa???? pequeña cantidad de manejo\n",
    "de series de tiempo y limpieza de datos:"
   ]
  },
  {
   "cell_type": "code",
   "execution_count": null,
   "metadata": {},
   "outputs": [],
   "source": [
    "data=pd.read_table(\"./examples/macrodata.csv\", sep='\\s+')"
   ]
  },
  {
   "cell_type": "code",
   "execution_count": null,
   "metadata": {},
   "outputs": [],
   "source": [
    "data.head()"
   ]
  },
  {
   "cell_type": "code",
   "execution_count": null,
   "metadata": {},
   "outputs": [],
   "source": [
    "periods = pd.PeriodIndex(year=data.year, quarter=data.quarter,\n",
    "                               name='date')"
   ]
  },
  {
   "cell_type": "code",
   "execution_count": null,
   "metadata": {},
   "outputs": [],
   "source": [
    "columns = pd.Index(['realgdp', 'infl', 'unemp'], name='item')"
   ]
  },
  {
   "cell_type": "code",
   "execution_count": null,
   "metadata": {},
   "outputs": [],
   "source": [
    "data = data.reindex(columns=columns)"
   ]
  },
  {
   "cell_type": "code",
   "execution_count": null,
   "metadata": {},
   "outputs": [],
   "source": [
    "data.head()"
   ]
  },
  {
   "cell_type": "code",
   "execution_count": null,
   "metadata": {},
   "outputs": [],
   "source": [
    "Out[43  \n",
    "item   realgdp  infl  unemp\n",
    "0     2710.349  0.00    5.8\n",
    "1     2778.801  2.34    5.1\n",
    "2     2775.488  2.74    5.3\n",
    "3     2785.204  0.27    5.6\n",
    "4     2847.699  2.31    5.2\n",
    "\n",
    "\n",
    "   data.index = periods.to_timestamp('D', 'end')\n",
    "\n",
    "    ldata = data.stack().reset_index().rename(columns={0: 'value'})\n",
    "```\n",
    "\n",
    " \n",
    "\n",
    "`PeriodIndex` combina las columnas `year` y `quarter` para crear un tipo\n",
    "de intervalo de tiempo.\n",
    "\n",
    "Ahora, `ldata` se ve así:"
   ]
  },
  {
   "cell_type": "code",
   "execution_count": null,
   "metadata": {},
   "outputs": [],
   "source": [
    "data.index = periods.to_timestamp('D', 'end')"
   ]
  },
  {
   "cell_type": "code",
   "execution_count": null,
   "metadata": {},
   "outputs": [],
   "source": [
    "ldata = data.stack().reset_index().rename(columns={0: 'value'})"
   ]
  },
  {
   "cell_type": "markdown",
   "metadata": {},
   "source": [
    " \n",
    "\n",
    "`PeriodIndex` combina las columnas `year` y `quarter` para crear un tipo\n",
    "de intervalo de tiempo.\n",
    "\n",
    "Ahora, `ldata` se ve así:\n",
    "\n",
    " \n",
    "\n",
    " \n",
    "   "
   ]
  },
  {
   "cell_type": "code",
   "execution_count": null,
   "metadata": {},
   "outputs": [],
   "source": [
    "ldata[:10]"
   ]
  },
  {
   "cell_type": "markdown",
   "metadata": {},
   "source": [
    "Este es el llamado formato *largo* para múltiples series de tiempo u\n",
    "otros datos de observación con dos o más claves (aquí, nuestras claves\n",
    "son `date` y `item`). Cada fila de la tabla representa una sola\n",
    "observación."
   ]
  },
  {
   "cell_type": "markdown",
   "metadata": {},
   "source": [
    "Los datos se almacenan con frecuencia de esta manera en bases de datos\n",
    "relacionales como MySQL, ya que un esquema fijo —nombres de columna y\n",
    "tipos de datos— permite que el número de valores distintos en la columna\n",
    "`item` cambie a medida que se agregan datos a la tabla. En el ejemplo\n",
    "anterior, `date` y `item` generalmente serían las claves principales —en\n",
    "el lenguaje de bases de datos relacionales— ofreciendo integridad\n",
    "relacional y uniones más fáciles. En algunos casos, los datos pueden ser\n",
    "más difíciles de trabajar en este formato; es posible que prefiera tener\n",
    "un DataFrame que contenga una columna por cada valor `item` distinto\n",
    "indexado por marcas de tiempo en la columna `date`. El método pivot de\n",
    "DataFrame realiza exactamente esta transformación:\n",
    " "
   ]
  },
  {
   "cell_type": "code",
   "execution_count": null,
   "metadata": {},
   "outputs": [],
   "source": [
    "pivoted = ldata.pivot('date', 'item', 'value')"
   ]
  },
  {
   "cell_type": "code",
   "execution_count": null,
   "metadata": {},
   "outputs": [],
   "source": [
    "pivoted"
   ]
  },
  {
   "cell_type": "code",
   "execution_count": null,
   "metadata": {},
   "outputs": [],
   "source": [
    "Los primeros dos valores pasados son las columnas que se utilizarán\n",
    "respectivamente como el índice de fila y columna, luego, finalmente, una\n",
    "columna de valor opcional para llenar el DataFrame. Supongamos que hay\n",
    "dos columnas de valor que deseamos remodelar simultáneamente:"
   ]
  },
  {
   "cell_type": "markdown",
   "metadata": {},
   "source": [
    "Los primeros dos valores pasados son las columnas que se utilizarán\n",
    "respectivamente como el índice de fila y columna, luego, finalmente, una\n",
    "columna de valor opcional para llenar el DataFrame. Supongamos que hay\n",
    "dos columnas de valor que deseamos remodelar simultáneamente:\n"
   ]
  },
  {
   "cell_type": "code",
   "execution_count": null,
   "metadata": {},
   "outputs": [],
   "source": [
    "ldata['value2'] = np.random.randn(len(ldata))"
   ]
  },
  {
   "cell_type": "code",
   "execution_count": null,
   "metadata": {},
   "outputs": [],
   "source": [
    "ldata[:10]"
   ]
  },
  {
   "cell_type": "code",
   "execution_count": null,
   "metadata": {},
   "outputs": [],
   "source": [
    "Out[52  \n",
    "                           date     item     value    value2\n",
    "0 1959-03-31 23:59:59.999999999  realgdp  2710.349 -1.483364\n",
    "1 1959-03-31 23:59:59.999999999     infl     0.000 -0.024496\n",
    "2 1959-03-31 23:59:59.999999999    unemp     5.800 -0.377846\n",
    "3 1959-06-30 23:59:59.999999999  realgdp  2778.801 -0.284949\n",
    "4 1959-06-30 23:59:59.999999999     infl     2.340  1.384590\n",
    "5 1959-06-30 23:59:59.999999999    unemp     5.100 -0.392535\n",
    "6 1959-09-30 23:59:59.999999999  realgdp  2775.488 -2.460320\n",
    "7 1959-09-30 23:59:59.999999999     infl     2.740  1.363721\n",
    "8 1959-09-30 23:59:59.999999999    unemp     5.300 -1.221243\n",
    "9 1959-12-31 23:59:59.999999999  realgdp  2785.204  1.408105\n",
    "```\n",
    "\n",
    " "
   ]
  },
  {
   "cell_type": "markdown",
   "metadata": {},
   "source": [
    "Al omitir el último argumento, obtenemos un DataFrame con columnas\n",
    "jerárquicas:\n"
   ]
  },
  {
   "cell_type": "code",
   "execution_count": null,
   "metadata": {},
   "outputs": [],
   "source": [
    "pivoted = ldata.pivot('date', 'item')  "
   ]
  },
  {
   "cell_type": "code",
   "execution_count": null,
   "metadata": {},
   "outputs": [],
   "source": [
    "pivoted[:5]"
   ]
  },
  {
   "cell_type": "code",
   "execution_count": null,
   "metadata": {},
   "outputs": [],
   "source": [
    "Out[54  \n",
    "                              value                    value2            \\\n",
    "item                           infl   realgdp unemp      infl   realgdp   \n",
    "date                                                                      \n",
    "1959-03-31 23:59:59.999999999  0.00  2710.349   5.8 -0.024496 -1.483364   \n",
    "1959-06-30 23:59:59.999999999  2.34  2778.801   5.1  1.384590 -0.284949   \n",
    "1959-09-30 23:59:59.999999999  2.74  2775.488   5.3  1.363721 -2.460320   \n",
    "1959-12-31 23:59:59.999999999  0.27  2785.204   5.6 -0.118157  1.408105   \n",
    "1960-03-31 23:59:59.999999999  2.31  2847.699   5.2 -0.553291 -1.900002   \n",
    "\n",
    "                                         \n",
    "item                              unemp  \n",
    "date                                     \n",
    "1959-03-31 23:59:59.999999999 -0.377846  \n",
    "1959-06-30 23:59:59.999999999 -0.392535  \n",
    "1959-09-30 23:59:59.999999999 -1.221243  \n",
    "1959-12-31 23:59:59.999999999  1.235613  \n",
    "1960-03-31 23:59:59.999999999 -1.199842  \n",
    "\n",
    "\n",
    "    "
   ]
  },
  {
   "cell_type": "code",
   "execution_count": null,
   "metadata": {},
   "outputs": [],
   "source": [
    "pivoted['value'][:5]"
   ]
  },
  {
   "cell_type": "code",
   "execution_count": null,
   "metadata": {},
   "outputs": [],
   "source": [
    "Out[55  \n",
    "item                           infl   realgdp  unemp\n",
    "date                                                \n",
    "1959-03-31 23:59:59.999999999  0.00  2710.349    5.8\n",
    "1959-06-30 23:59:59.999999999  2.34  2778.801    5.1\n",
    "1959-09-30 23:59:59.999999999  2.74  2775.488    5.3\n",
    "1959-12-31 23:59:59.999999999  0.27  2785.204    5.6\n",
    "1960-03-31 23:59:59.999999999  2.31  2847.699    5.2\n",
    "```\n",
    "\n",
    " "
   ]
  },
  {
   "cell_type": "markdown",
   "metadata": {},
   "source": [
    "Notemos que `pivot` es equivalente a crear un índice jerárquico usando\n",
    "`set_index` seguido de una llamada a `unstack`:\n",
    "\n",
    " "
   ]
  },
  {
   "cell_type": "code",
   "execution_count": null,
   "metadata": {},
   "outputs": [],
   "source": [
    "unstacked = ldata.set_index(['date', 'item']).unstack('item')"
   ]
  },
  {
   "cell_type": "code",
   "execution_count": null,
   "metadata": {},
   "outputs": [],
   "source": [
    "unstacked[:7]"
   ]
  },
  {
   "cell_type": "code",
   "execution_count": null,
   "metadata": {},
   "outputs": [],
   "source": [
    "Out[57  \n",
    "                              value                    value2            \\\n",
    "item                           infl   realgdp unemp      infl   realgdp   \n",
    "date                                                                      \n",
    "1959-03-31 23:59:59.999999999  0.00  2710.349   5.8 -0.024496 -1.483364   \n",
    "1959-06-30 23:59:59.999999999  2.34  2778.801   5.1  1.384590 -0.284949   \n",
    "1959-09-30 23:59:59.999999999  2.74  2775.488   5.3  1.363721 -2.460320   \n",
    "1959-12-31 23:59:59.999999999  0.27  2785.204   5.6 -0.118157  1.408105   \n",
    "1960-03-31 23:59:59.999999999  2.31  2847.699   5.2 -0.553291 -1.900002   \n",
    "1960-06-30 23:59:59.999999999  0.14  2834.390   5.2 -0.587449  0.991692   \n",
    "1960-09-30 23:59:59.999999999  2.70  2839.022   5.6 -1.014435 -1.619160   \n",
    "\n",
    "                                         \n",
    "item                              unemp  \n",
    "date                                     \n",
    "1959-03-31 23:59:59.999999999 -0.377846  \n",
    "1959-06-30 23:59:59.999999999 -0.392535  \n",
    "1959-09-30 23:59:59.999999999 -1.221243  \n",
    "1959-12-31 23:59:59.999999999  1.235613  \n",
    "1960-03-31 23:59:59.999999999 -1.199842  \n",
    "1960-06-30 23:59:59.999999999 -0.070792  \n",
    "1960-09-30 23:59:59.999999999  1.101305  \n",
    "```\n",
    "\n",
    " \n",
    "\n",
    " \n",
    "\n",
    " "
   ]
  },
  {
   "cell_type": "markdown",
   "metadata": {},
   "source": [
    "### Pivotar Formato “Ancho” a “Largo”\n",
    "\n",
    " \n",
    "\n",
    "Una operación inversa para pivotar para DataFrames es `pandas.melt`. En\n",
    "lugar de transformar una columna en muchas en un nuevo DataFrame, une\n",
    "varias columnas en una, produciendo un DataFrame que es más largo que la\n",
    "entrada. Veamos un ejemplo:\n",
    " "
   ]
  },
  {
   "cell_type": "code",
   "execution_count": null,
   "metadata": {},
   "outputs": [],
   "source": [
    "df = pd.DataFrame({'key': ['foo', 'bar', 'baz'],\n",
    "                         'A': [1, 2, 3],\n",
    "                         'B': [4, 5, 6],\n",
    "                         'C': [7, 8, 9]})\n",
    "\n",
    "  "
   ]
  },
  {
   "cell_type": "code",
   "execution_count": null,
   "metadata": {},
   "outputs": [],
   "source": [
    "df"
   ]
  },
  {
   "cell_type": "markdown",
   "metadata": {},
   "source": [
    "La columna `'key'` puede ser un indicador de grupo, y las otras columnas\n",
    "son valores de datos. Al usar `pandas.melt`, debemos indicar qué\n",
    "columnas —si las hay— son indicadores de grupo. Aquí usamos `'key'` como\n",
    "el único indicador de grupo:\n",
    " "
   ]
  },
  {
   "cell_type": "code",
   "execution_count": null,
   "metadata": {},
   "outputs": [],
   "source": [
    "melted = pd.melt(df, ['key'])"
   ]
  },
  {
   "cell_type": "code",
   "execution_count": null,
   "metadata": {},
   "outputs": [],
   "source": [
    "melted"
   ]
  },
  {
   "cell_type": "markdown",
   "metadata": {},
   "source": [
    "Usando `pivot`, podemos regresar al formato original:\n",
    "   "
   ]
  },
  {
   "cell_type": "code",
   "execution_count": null,
   "metadata": {},
   "outputs": [],
   "source": [
    "reshaped = melted.pivot('key', 'variable', 'value')"
   ]
  },
  {
   "cell_type": "code",
   "execution_count": null,
   "metadata": {},
   "outputs": [],
   "source": [
    "reshaped"
   ]
  },
  {
   "cell_type": "markdown",
   "metadata": {},
   "source": [
    "Dado que el resultado de `pivot` crea un índice de la columna utilizada\n",
    "como etiquetas de filas, es posible que queramos usar `reset_index` para\n",
    "mover los datos de regreso a una columna:"
   ]
  },
  {
   "cell_type": "code",
   "execution_count": null,
   "metadata": {},
   "outputs": [],
   "source": [
    "reshaped.reset_index()"
   ]
  },
  {
   "cell_type": "markdown",
   "metadata": {},
   "source": [
    "También podemos especificar un subconjunto de columnas para usarlas como\n",
    "columnas de valor:"
   ]
  },
  {
   "cell_type": "code",
   "execution_count": null,
   "metadata": {
    "scrolled": true
   },
   "outputs": [],
   "source": [
    "pd.melt(df, id_vars=['key'], value_vars=['A', 'B'])"
   ]
  },
  {
   "cell_type": "markdown",
   "metadata": {},
   "source": [
    "`pandas.melt` también se puede usar sin ningún identificador de grupo:\n",
    "\n",
    " "
   ]
  },
  {
   "cell_type": "code",
   "execution_count": null,
   "metadata": {},
   "outputs": [],
   "source": [
    "pd.melt(df, value_vars=['A', 'B', 'C'])"
   ]
  },
  {
   "cell_type": "code",
   "execution_count": null,
   "metadata": {},
   "outputs": [],
   "source": [
    "pd.melt(df, value_vars=['key', 'A', 'B'])"
   ]
  },
  {
   "cell_type": "markdown",
   "metadata": {},
   "source": [
    " \n",
    "\n",
    "Ahora que tenemos algunos conceptos básicos de pandas para la\n",
    "importación, limpieza y reorganización de datos, estamos listos para\n",
    "pasar a la Agregación de Datos y Operaciones con Grupos.\n",
    "\n",
    " \n",
    "\n",
    " \n",
    "\n",
    " "
   ]
  },
  {
   "cell_type": "markdown",
   "metadata": {},
   "source": [
    "Bibliografía\n",
    "------------\n",
    "\n",
    " \n",
    "\n",
    "\\[1\\] *Python for Data Analysis, Data Wrangling with Pandas, NumPy, and\n",
    "IPython, Wes McKinney, 2nd. edition, 2018.*\n",
    "\n",
    "\\[2\\]\n",
    "*<a href=\"https://docs.python.org/3/\" class=\"uri\">https://docs.python.org/3/</a>*\n",
    "\n",
    "\\[3\\]\n",
    "*<a href=\"https://docs.python.org/3/tutorial/index.html\" class=\"uri\">https://docs.python.org/3/tutorial/index.html</a>*\n",
    "\n",
    "\\[4\\]\n",
    "*<a href=\"https://numpy.org/doc/stable/\" class=\"uri\">https://numpy.org/doc/stable/</a>*\n",
    "\n",
    "\\[5\\]\n",
    "*<a href=\"https://pandas.pydata.org/\" class=\"uri\">https://pandas.pydata.org/</a>*\n",
    "\n",
    " \n",
    "\n",
    " \n",
    "\n",
    "------------------------------------------------------------------------"
   ]
  },
  {
   "cell_type": "code",
   "execution_count": null,
   "metadata": {},
   "outputs": [],
   "source": []
  }
 ],
 "metadata": {
  "kernelspec": {
   "display_name": "Python 3",
   "language": "python",
   "name": "python3"
  },
  "language_info": {
   "codemirror_mode": {
    "name": "ipython",
    "version": 3
   },
   "file_extension": ".py",
   "mimetype": "text/x-python",
   "name": "python",
   "nbconvert_exporter": "python",
   "pygments_lexer": "ipython3",
   "version": "3.8.5"
  }
 },
 "nbformat": 4,
 "nbformat_minor": 5
}
